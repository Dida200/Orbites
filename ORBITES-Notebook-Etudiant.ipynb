{
 "cells": [
  {
   "cell_type": "markdown",
   "id": "continent-observation",
   "metadata": {},
   "source": [
    "# Projet : Gravitation et orbites"
   ]
  },
  {
   "cell_type": "markdown",
   "id": "logical-management",
   "metadata": {},
   "source": [
    "![Image d'un planétaire, par Birmingham Museums Trust](orrery.jpg)\n",
    "\n",
    "Dans ce projet, vous allez étudier la physique des orbites des planètes, dont des exoplanètes. À l'échelle du système solaire, le comportement des corps célestes se décrit, à une très bonne approximation, par les lois de Newton (chapitre 2, section 3 des notes de cours) et par la force gravitationnelle (chapitre 2, section 8.1 des NoC). Avec cette liste courte de principes et d'équations, on peut, en principe, décrire avec précision l'évolution temporelle du système -- c'est-à-dire, les orbites des planètes. Cependant, des résolutions analytiques des systèmes à plusieurs corps s'avèrent difficiles, voire impossibles. On a recours, donc, à une résolution numérique.\n",
    "\n",
    "Les compétences à acquérir sont les suivantes :\n",
    "\n",
    "+ La physique des forces, la gravitation, les lois de Newton.\n",
    "+ La manipulation des vecteurs.\n",
    "+ Les changements d'unités.\n",
    "+ L'analyse des données, l'ajustement d'un modèle linéaire aux données.\n",
    "+ La résolution d'un problème par la méthode numérique d'itération.\n",
    "+ Une compréhension des limites de la méthode, et comment évaluer son domaine de validité."
   ]
  },
  {
   "cell_type": "markdown",
   "id": "engaged-seating",
   "metadata": {},
   "source": [
    "---"
   ]
  },
  {
   "cell_type": "markdown",
   "id": "orange-messenger",
   "metadata": {},
   "source": [
    "# 1. Introduction : Les exoplanetes, et la troisième loi de Kepler\n",
    "\n",
    "L'astronome Kepler a identifié trois lois décrivant les orbites des planètes autour d'un astre, dont la troisième est la suivante :\n",
    "$$\\left( \\frac{2\\pi}{P} \\right)^2 \\, a^3 = k$$\n",
    "où\n",
    "$P$ est la période de révolution (techniquement, la période sidérale) de la planète,\n",
    "$a$ est le demi-grand axe de la trajectoire elliptique de la planète, et\n",
    "$k$ est une constante.\n",
    "\n",
    "Newton a montré que la constante $k$ est donnée par la formule suivante :\n",
    "$$k = \\mathcal{G} (M+m) \\approx \\mathcal{G} M$$\n",
    "où\n",
    "$m$ est la masse de la planète,\n",
    "$M$ est la masse de l'astre, et\n",
    "$\\mathcal{G}$ est la constante gravitationnelle : $\\mathcal{G} = 6,674 \\times 10^{-11} \\, \\mathrm{m}^3 \\, \\mathrm{kg}^{-1} \\, \\mathrm{s}^{-2}$.\n",
    "L'approximation $\\mathcal{G}(M+m) \\approx \\mathcal{G}M$ est valable dans la limite où la masse de l'astre est grande devant celle de la planète. Dans cette limite, la valeur de $k$ est identique pour toutes les planètes d'un système solaire.\n",
    "\n",
    "Kepler étudiait notre système solaire, mais ses lois doivent s'appliquer plus largement.\n",
    "La NASA a rassemblé [une base de données d'observations d'exoplanètes](https://exoplanetarchive.ipac.caltech.edu/cgi-bin/TblView/nph-tblView?app=ExoTbls&config=PS),\n",
    "c'est-à-dire des planètes se situant dans des systèmes solaires autres que le nôtre.\n",
    "Dans le fichier ```nasa-exoplanetes.csv```, vous trouverez une fraction de ces données, dans un format adapté à la lecture par un code python.\n",
    "Les données se regroupent sous la forme de quatre colonnes et plusieurs rangées (lignes).\n",
    "Ces quatres colonnes représentent :\n",
    "\n",
    "1. la période de l'orbite de la planète, $P$, en jours ;\n",
    "2. le demi-[grand axe](https://fr.wikipedia.org/wiki/Grand_axe) de la trajectoire, $a$, en au ([unités astronomique](https://fr.wikipedia.org/wiki/Unit%C3%A9_astronomique)) ;\n",
    "3. la masse de la planète, $m$, en unités de [masses terrestres](https://fr.wikipedia.org/wiki/Masse_terrestre_(unit%C3%A9)) (1 $M_T$ = la masse de la Terre) ;\n",
    "4. la masse de l'astre, $M$, en unités de [masses solaires](https://fr.wikipedia.org/wiki/Masse_solaire) (1 $M_S$ = la masse du Soleil).\n",
    "\n",
    "Dans cette première partie, nous allons lire et étudier ces données afin de tester la théorie de Kepler.\n",
    "\n",
    "### Étape 1 : lecture du fichier\n",
    "\n",
    "[Q1] En utilisant ```numpy```, lire le contenu du fichier CSV et stocker le dans un tableau (array) bidimensionnel que vous appelerez `fiche`.\n",
    "(Par exemple, la méthode ```numpy.loadtxt()``` permettrait d'obtenir un tel tableau.)"
   ]
  },
  {
   "cell_type": "code",
   "execution_count": 1,
   "id": "patient-silly",
   "metadata": {},
   "outputs": [
    {
     "name": "stdout",
     "output_type": "stream",
     "text": [
      "[[3.26030000e+02 1.29000000e+00 6.16560000e+03 2.70000000e+00]\n",
      " [5.16220000e+02 1.54000000e+00 3.33707000e+03 1.80000000e+00]\n",
      " [1.85840000e+02 8.30000000e-01 1.52550000e+03 2.20000000e+00]\n",
      " [1.76641000e+03 2.83000000e+00 1.54146777e+03 9.70000000e-01]\n",
      " [7.99450000e+02 1.67600000e+00 5.56835370e+02 9.80000000e-01]\n",
      " [9.93300000e+02 2.60000000e+00 3.27350000e+03 2.30000000e+00]\n",
      " [3.03506000e+01 1.90000000e-01 2.89225300e+02 9.90000000e-01]\n",
      " [4.52800000e+02 1.33300000e+00 6.32460000e+02 1.54000000e+00]\n",
      " [8.83000000e+02 2.08000000e+00 2.73320000e+02 1.54000000e+00]\n",
      " [4.16000000e+02 9.20000000e-01 6.03877000e+02 4.80000000e-01]\n",
      " [3.35100000e+02 9.95000000e-01 3.14003000e+03 1.16000000e+00]\n",
      " [2.69300000e+02 8.70000000e-01 2.25650000e+03 1.23000000e+00]\n",
      " [4.79100000e+02 1.19000000e+00 1.23313000e+03 9.80000000e-01]\n",
      " [1.07660000e+03 2.05900000e+00 7.74865660e+02 1.01000000e+00]\n",
      " [2.28700000e+03 3.40400000e+00 1.57960720e+02 1.01000000e+00]\n",
      " [4.23078500e+00 5.27000000e-02 1.50009000e+02 1.03000000e+00]\n",
      " [1.46516000e+01 1.13400000e-01 2.55400000e+02 9.10000000e-01]\n",
      " [4.43800000e+01 2.37000000e-01 5.24400000e+01 9.00000000e-01]]\n"
     ]
    }
   ],
   "source": [
    "# [Q1 : votre code ici]\n",
    "import numpy as np \n",
    "fiche=np.loadtxt(\"nasa-exoplanetes.csv\",delimiter=\" \")\n",
    "print(fiche)\n",
    "np.savetxt(\"nasa-exoplanetes.csv\",fiche,delimiter=\" \")"
   ]
  },
  {
   "cell_type": "markdown",
   "id": "facial-technology",
   "metadata": {},
   "source": [
    "### Étape 2 : calcul\n",
    "\n",
    "Ensuite, nous allons traiter les données, une ligne à la fois.\n",
    "Pour ce faire, il vous faudra une boucle `for`.\n",
    "**Pour chaque planète** (chaque ligne du tableau) :\n",
    "\n",
    "+ [Q2] Extraire les paramètres $P$, $a$, $m$, et $M$.\n",
    "+ [Q3] Calculer la valeur de $f = \\frac{a^3}{P^2 M}$ et imprimer sa valeur sous une forme semblable à la suivante :\n",
    "```La valeur de f de la [...]ième planète est [...] au^3 jour^-2 MS^-1```\n",
    "(où vous remplacerez les ```[...]``` par des chiffres). Stocker cette valeur dans un array."
   ]
  },
  {
   "cell_type": "code",
   "execution_count": 2,
   "id": "conditional-prefix",
   "metadata": {},
   "outputs": [
    {
     "name": "stdout",
     "output_type": "stream",
     "text": [
      "Planète n°1: P=326.03jours, a=1.29au ,m=6165.6M_t, M=2.7M_s\n",
      "Planète n°2: P=516.22jours, a=1.54au ,m=3337.07M_t, M=1.8M_s\n",
      "Planète n°3: P=185.84jours, a=0.83au ,m=1525.5M_t, M=2.2M_s\n",
      "Planète n°4: P=1766.41jours, a=2.83au ,m=1541.46777M_t, M=0.97M_s\n",
      "Planète n°5: P=799.45jours, a=1.676au ,m=556.83537M_t, M=0.98M_s\n",
      "Planète n°6: P=993.3jours, a=2.6au ,m=3273.5M_t, M=2.3M_s\n",
      "Planète n°7: P=30.3506jours, a=0.19au ,m=289.2253M_t, M=0.99M_s\n",
      "Planète n°8: P=452.8jours, a=1.333au ,m=632.46M_t, M=1.54M_s\n",
      "Planète n°9: P=883.0jours, a=2.08au ,m=273.32M_t, M=1.54M_s\n",
      "Planète n°10: P=416.0jours, a=0.92au ,m=603.877M_t, M=0.48M_s\n",
      "Planète n°11: P=335.1jours, a=0.995au ,m=3140.03M_t, M=1.16M_s\n",
      "Planète n°12: P=269.3jours, a=0.87au ,m=2256.5M_t, M=1.23M_s\n",
      "Planète n°13: P=479.1jours, a=1.19au ,m=1233.13M_t, M=0.98M_s\n",
      "Planète n°14: P=1076.6jours, a=2.059au ,m=774.86566M_t, M=1.01M_s\n",
      "Planète n°15: P=2287.0jours, a=3.404au ,m=157.96072M_t, M=1.01M_s\n",
      "Planète n°16: P=4.230785jours, a=0.0527au ,m=150.009M_t, M=1.03M_s\n",
      "Planète n°17: P=14.6516jours, a=0.1134au ,m=255.4M_t, M=0.91M_s\n",
      "Planète n°18: P=44.38jours, a=0.237au ,m=52.44M_t, M=0.9M_s\n",
      "La valeur de f de la 1ième planète est 7.479804361237443e-06 au^3 jour^-2 MS^-1\n",
      "La valeur de f de la 2ième planète est 7.6141250378707166e-06 au^3 jour^-2 MS^-1\n",
      "La valeur de f de la 3ième planète est 7.525462617103386e-06 au^3 jour^-2 MS^-1\n",
      "La valeur de f de la 4ième planète est 7.488667410035809e-06 au^3 jour^-2 MS^-1\n",
      "La valeur de f de la 5ième planète est 7.516460049253657e-06 au^3 jour^-2 MS^-1\n",
      "La valeur de f de la 6ième planète est 7.74517681881957e-06 au^3 jour^-2 MS^-1\n",
      "La valeur de f de la 7ième planète est 7.521267693499806e-06 au^3 jour^-2 MS^-1\n",
      "La valeur de f de la 8ième planète est 7.5016516128901155e-06 au^3 jour^-2 MS^-1\n",
      "La valeur de f de la 9ième planète est 7.494589959136721e-06 au^3 jour^-2 MS^-1\n",
      "La valeur de f de la 10ième planète est 9.374229536489154e-06 au^3 jour^-2 MS^-1\n",
      "La valeur de f de la 11ième planète est 7.5624479288266e-06 au^3 jour^-2 MS^-1\n",
      "La valeur de f de la 12ième planète est 7.382100265489048e-06 au^3 jour^-2 MS^-1\n",
      "La valeur de f de la 13ième planète est 7.491391032227031e-06 au^3 jour^-2 MS^-1\n",
      "La valeur de f de la 14ième planète est 7.456566838677783e-06 au^3 jour^-2 MS^-1\n",
      "La valeur de f de la 15ième planète est 7.466463583606955e-06 au^3 jour^-2 MS^-1\n",
      "La valeur de f de la 16ième planète est 7.938760663413883e-06 au^3 jour^-2 MS^-1\n",
      "La valeur de f de la 17ième planète est 7.464963080781758e-06 au^3 jour^-2 MS^-1\n",
      "La valeur de f de la 18ième planète est 7.509792421182862e-06 au^3 jour^-2 MS^-1\n"
     ]
    }
   ],
   "source": [
    "# [votre code ici pour Q2]\n",
    "for i in range (0,18):\n",
    "    P = fiche[i,0]\n",
    "    a = fiche[i,1]\n",
    "    m = fiche[i,2]\n",
    "    M = fiche[i,3]\n",
    "    print(f\"Planète n°{i+1}: P={P}jours, a={a}au ,m={m}M_t, M={M}M_s\")\n",
    "# [votre code ici pour Q3, utilisant une boucle 'for']\n",
    "for i in range(18):\n",
    "    f=((fiche[i,1]**3)/(fiche[i,0]**2*fiche[i,3]))\n",
    "    \n",
    "    print(f\"La valeur de f de la {i+1}ième planète est {f} au^3 jour^-2 MS^-1\")\n",
    "\n",
    "t=np.array([7.479804361237443e-06,7.6141250378707166e-06,7.525462617103386e-06,7.488667410035809e-06,7.516460049253657e-06,7.74517681881957e-06,7.521267693499806e-06,7.5016516128901155e-06,7.494589959136721e-06,9.374229536489154e-06,7.5624479288266e-06,7.382100265489048e-06,7.491391032227031e-06,7.456566838677783e-06,7.466463583606955e-06,7.938760663413883e-06,7.464963080781758e-06,7.509792421182862e-06])\n"
   ]
  },
  {
   "cell_type": "markdown",
   "id": "soviet-charles",
   "metadata": {},
   "source": [
    "[Q4] Que constatez-vous ?"
   ]
  },
  {
   "cell_type": "markdown",
   "id": "insured-joyce",
   "metadata": {},
   "source": [
    "On constate que la valeur f de quasiment toutes les planètes tourne autour de 7.5e-06 au^3 jour^-2 MS^-1, sauf pour la 9ième planète qui elle a un f d'environ 9.4e-06 au^3 jour^-2 MS^-1.Elles restent tout de même du même ordre de grandeur."
   ]
  },
  {
   "cell_type": "markdown",
   "id": "special-oasis",
   "metadata": {},
   "source": [
    "[Q5] Calculer la moyenne et l'écart-type de l'ensemble de vos valeurs de $f$\n",
    "(en utilisant ```numpy.mean()``` et ```numpy.std()``` ou autrement)."
   ]
  },
  {
   "cell_type": "code",
   "execution_count": 3,
   "id": "innocent-spotlight",
   "metadata": {},
   "outputs": [
    {
     "name": "stdout",
     "output_type": "stream",
     "text": [
      "[7.47980436e-06 7.61412504e-06 7.52546262e-06 7.48866741e-06\n",
      " 7.51646005e-06 7.74517682e-06 7.52126769e-06 7.50165161e-06\n",
      " 7.49458996e-06 9.37422954e-06 7.56244793e-06 7.38210027e-06\n",
      " 7.49139103e-06 7.45656684e-06 7.46646358e-06 7.93876066e-06\n",
      " 7.46496308e-06 7.50979242e-06]\n",
      "la moyenne est de : 7.640773383919017e-06\n",
      "l'ecart type est de : 4.375324460955931e-07\n"
     ]
    }
   ],
   "source": [
    "# [votre code ici pour Q5]\n",
    "#calcul de la moyenne\n",
    "print(t)\n",
    "print(f\"la moyenne est de : {np.mean(t)}\")\n",
    "\n",
    "#calcul de l'écart-type\n",
    "print(f\"l'ecart type est de : {np.std(t)}\")"
   ]
  },
  {
   "cell_type": "markdown",
   "id": "searching-cameroon",
   "metadata": {},
   "source": [
    "### Étape 3 : graphique\n",
    "\n",
    "Il convient de visualiser des données sous forme d'un graphique.\n",
    "\n",
    "[Q6] Pour chaque planète, calculer les deux quantités suivantes. Stockez-les dans des arrays (un array pour les $x$, un autre pour les $y$).\n",
    "\n",
    "+ les abscisses $x = P^2 M$\n",
    "+ les ordonnées $y = a^3$\n",
    "\n",
    "et puis tracer un nuage de points (en utilisant ```matplotlib.pyplot.scatter()``` ou autrement). N'oubliez pas d'ajouter un titre et nommer vos axes (avec les bonnes unités)."
   ]
  },
  {
   "cell_type": "code",
   "execution_count": 4,
   "id": "confidential-yukon",
   "metadata": {},
   "outputs": [
    {
     "name": "stdout",
     "output_type": "stream",
     "text": [
      "[2.86998014e+05 4.79669559e+05 7.59803123e+04 3.02659816e+06\n",
      " 6.26337896e+05 2.26928325e+06 9.11947331e+02 3.15742874e+05\n",
      " 1.20072106e+06 8.30668800e+04 1.30258732e+05 8.92026627e+04\n",
      " 2.24946074e+05 1.17065824e+06 5.28267269e+06 1.84365280e+01\n",
      " 1.95349138e+02 1.77262596e+03]\n",
      "[2.14668900e+00 3.65226400e+00 5.71787000e-01 2.26651870e+01\n",
      " 4.70784378e+00 1.75760000e+01 6.85900000e-03 2.36859304e+00\n",
      " 8.99891200e+00 7.78688000e-01 9.85074875e-01 6.58503000e-01\n",
      " 1.68515900e+00 8.72909138e+00 3.94428833e+01 1.46363183e-04\n",
      " 1.45827410e-03 1.33120530e-02]\n"
     ]
    },
    {
     "data": {
      "text/plain": [
       "<matplotlib.legend.Legend at 0x2681b263a60>"
      ]
     },
     "execution_count": 4,
     "metadata": {},
     "output_type": "execute_result"
    },
    {
     "data": {
      "image/png": "[encoded data removed]",
      "text/plain": [
       "<Figure size 432x288 with 1 Axes>"
      ]
     },
     "metadata": {
      "needs_background": "light"
     },
     "output_type": "display_data"
    }
   ],
   "source": [
    "# [votre code ici pour Q6]\n",
    "import matplotlib.pyplot as plt\n",
    "tx=[]\n",
    "ty=[]\n",
    "for i in range (0,18):\n",
    "    x =fiche[i,0]**2*fiche[i,3]\n",
    "    y=fiche[i,1]**3\n",
    "    tx = np.append(tx,x)\n",
    "    ty = np.append(ty,y)\n",
    "print(tx)\n",
    "print(ty)\n",
    "\n",
    "plt.scatter(tx,ty,label=\"planète\")\n",
    "plt.xlabel(\"x (jours^2*M_s)\")\n",
    "plt.ylabel(\"y (au**3)\")\n",
    "plt.title(\"les coordonées des planètes\")\n",
    "plt.legend()"
   ]
  },
  {
   "cell_type": "markdown",
   "id": "inclusive-florence",
   "metadata": {},
   "source": [
    "### Étape 4 : ajustement et interpretation\n",
    "\n",
    "[Q7] Effectuer un ajustement linéaire aux données (avec ```numpy.polyfit()``` ou autrement).\n",
    "Dessiner un graphique incluant la fonction ajustée et les données (sous forme d'un nuage de points)."
   ]
  },
  {
   "cell_type": "code",
   "execution_count": 5,
   "id": "capital-education",
   "metadata": {},
   "outputs": [
    {
     "name": "stdout",
     "output_type": "stream",
     "text": [
      "[7.49317441e-06 3.36046234e-02]\n"
     ]
    },
    {
     "data": {
      "text/plain": [
       "<matplotlib.legend.Legend at 0x2681b948550>"
      ]
     },
     "execution_count": 5,
     "metadata": {},
     "output_type": "execute_result"
    },
    {
     "data": {
      "image/png": "[encoded data removed]",
      "text/plain": [
       "<Figure size 432x288 with 1 Axes>"
      ]
     },
     "metadata": {
      "needs_background": "light"
     },
     "output_type": "display_data"
    }
   ],
   "source": [
    "# [votre code ici pour Q7]\n",
    "fit=np.polyfit(tx,ty,1)\n",
    "print(fit)\n",
    "\n",
    "x=np.linspace(0,7*10**6,100)\n",
    "plt.plot(x,x*7.49317441e-06+3.36046234e-02,label=\"ajustement linéaire\")\n",
    "\n",
    "plt.scatter(tx,ty,label=\"planète\")\n",
    "plt.xlabel(\"x (jours^2*M_s)\")\n",
    "plt.ylabel(\"y (au**3)\")\n",
    "plt.title(\"les coordonées des planètes\")\n",
    "plt.legend()\n"
   ]
  },
  {
   "cell_type": "markdown",
   "id": "frequent-today",
   "metadata": {},
   "source": [
    "[Q8] Commenter l'ajustement. (Les données, sont-elles cohérentes avec la fonction ?)\n",
    "\n",
    "[Q9] Selon la loi de Kepler, la droite passe par l'origine. Est-ce bien le cas ? (L'ordonnée à l'origine, est-elle cohérente avec zéro ?) Que vaut le coefficient directeur de la droite ? Est-il cohérent avec la moyenne calculée précédemment ?"
   ]
  },
  {
   "cell_type": "markdown",
   "id": "persistent-africa",
   "metadata": {},
   "source": [
    "Q8)Les données sont bien cohérentes avec la fonction.\n",
    "\n",
    "Q9)La droite ne passe pas par l'origine car l'ordonnée à l'origine n'est pas de 0. Le coefficient directeur est de 7.49317441e-06. La moyenne étant de 7.640773383919017e-06, le coefficient est donc bien cohérent avec la moyenne."
   ]
  },
  {
   "cell_type": "markdown",
   "id": "beginning-bridal",
   "metadata": {},
   "source": [
    "**Pour aller plus loin :** [Q10] Le coefficient directeur de la droite, est-il cohérent avec la théorie ?\n",
    " * Attention, cette question Q10 nécessite un peu de travail. Les équations de l'introduction ci-dessus permettent de determiner la valeur théorique, en fonction de constantes connues (G et pi). Cependant, G s'exprime en unités SI ($\\mathrm{m}^3~\\mathrm{kg}^{-1}~\\mathrm{s}^{-1}$), mais le coefficient directeur s'exprime en d'autres unités (au, jours, masses solaires). Il faudra passer d'un système d'unités à l'autre. Pour ce faire, posez-vous les questions suivantes : Combien de mètres vaut 1au (une unité astronomique) ? Combien de s vaut un jour ? Combien de kg vaut la masse solaire $M_S$ ?"
   ]
  },
  {
   "cell_type": "code",
   "execution_count": 1,
   "id": "satellite-tribute",
   "metadata": {},
   "outputs": [
    {
     "name": "stdout",
     "output_type": "stream",
     "text": [
      "False\n"
     ]
    }
   ],
   "source": [
    "# [votre code ici pour Q10]\n",
    "\n",
    "import math as m\n",
    "#on a :\n",
    "\n",
    "#k=((4*m.pi**2)/p**2)*a**3\n",
    "G=6.674e-11\n",
    "#k=G*(m+M)\n",
    "#k=G*M\n",
    "#G=(((4*m.pi**2)/(p**2*M))*a**3)\n",
    "#𝑥=𝑃**2*𝑀\n",
    "#𝑦=𝑎**3\n",
    "#G=(4*m.pi**2/x)*y\n",
    "#selon la théorie :\n",
    "#y=x*(G/(4*m.pi**2))\n",
    "#selon la droite :\n",
    "#y=x*7.49317441e-06+3.36046234e-02\n",
    "#on sait que: 1au = 1,496e+11 m et: 1jour = 3600*24 = 86400 s et: M_s = 1,989e+30 Kg\n",
    "# le coefficient directeur s'exprime en : 7.49317441e-06 au^3*jours^-02*M_s^-01 = 7.49317441e-06*((1,496e+11 m)^3*(86400 s)^-02*(1,989e+30 Kg)^-01) =  1.689656229e-06 m^3*s^-02*Kg^-01\n",
    "#alors si le coefficient directeur de la droite est coherant avec la théorie on doit trouver:\n",
    "#coeff1 = (G)/(4*m.pi**2) \n",
    "#on a : G/4*m.pi**2 = 6,674e-11/4*m.pi**2 = 1.690543949e-12 m^3*s^-02*Kg^-01\n",
    "#on remarque que :\n",
    "#coeff = 1.690543949e-12 #m^3*s^-2*Kg^-1 \n",
    "#coeff != 1.689656229e-06\n",
    "coeff1 = 1.690543949e-12\n",
    "coeff2 = 1.689656229e-06\n",
    "if coeff2*(10**-1)<=coeff1<=coeff2*(10**1):\n",
    "    print(True)\n",
    "else :\n",
    "    print(False)"
   ]
  },
  {
   "cell_type": "markdown",
   "id": "chemical-viewer",
   "metadata": {},
   "source": [
    "_(vos observations ici pour Q10)_ : Le coefficient directeur de la droite n'est pas cohérent avec la théorie ."
   ]
  },
  {
   "cell_type": "markdown",
   "id": "muslim-vienna",
   "metadata": {},
   "source": [
    "---"
   ]
  },
  {
   "cell_type": "markdown",
   "id": "simple-saturday",
   "metadata": {},
   "source": [
    "# 2. Modélisation simple d'un système simple\n",
    "\n",
    "## 2.1 : Introduction\n",
    "\n",
    "Rappelons la loi de Newton (le principe fondamental de la dynamique):\n",
    "$$m_{\\mathrm{tot}} \\frac{\\mathrm{d}\\vec{v}_C}{\\mathrm{d}t} = \\vec{F}_{\\mathrm{tot}}$$\n",
    "où\n",
    "$m_{\\mathrm{tot}}$ est la masse totale d'un système,  \n",
    "$\\vec{v}_C$ est la vitesse (vectorielle) du centre de masse $C$ du système, et  \n",
    "$\\vec{F}_{\\mathrm{tot}}$ est la résultante des forces extérieures qui s'appliquent sur le système.\n",
    "\n",
    "Rappelons également comment calculer la force gravitationnelle entre deux corps :\n",
    "$$\\vec{F}_{A\\to B} = -\\mathcal{G} \\frac{m_A m_B}{||\\vec{AB}||^2} \\vec{u}_{AB}$$\n",
    "où\n",
    "$\\vec{F}_{A\\to B}$ est la force exercé par un corps (ou un système d'objets) $A$ de masse $m_A$ sur un corps $B$ de masse $m_B$,  \n",
    "$\\vec{AB}$ est la distance vectorielle entre les centres de masse des deux corps,  \n",
    "$\\mathcal{G}$ est la constante gravitationnelle,  et\n",
    "$\\vec{u}_{AB}$ est le vecteur unitaire de la distance entre les deux corps :\n",
    "$$\\vec{u}_{AB} = \\frac{\\vec{AB}}{||\\vec{AB}||}$$\n",
    "\n",
    "Nous allons mettre en oeuvre une résolution numérique de ces équations.\n",
    "Nous étudierons d'abord des systèmes suffisamment simples qu'ils permettent\n",
    "aussi des résolutions _analytiques_. L'intérêt est de comparer les deux approches\n",
    "afin de valider l'approche numérique et de comprendre ses limites.\n",
    "\n",
    "![Illustration des vecteurs](fig-vecteurs-1.png)\n",
    "\n",
    "Vous trouverez ci-dessus une illustration des vecteurs pour les deux corps A et B.\n",
    "Noter que les deux forces $\\vec{F}_{A\\to B}$ et $\\vec{F}_{B\\to A}$ sont de normes\n",
    "identiques mais de sens opposés ; dans le cas de la gravitation, elles dirigent\n",
    "A vers B et, inversement, B vers A. Noter en plus que nous n'avons à aucun point\n",
    "indiqué les vitesses des deux corps, car les forces gravitationnelles ne dépendent pas d'eux\n",
    "(s'expriment uniquement en fonction des masses et de la distance vectorielle $\\vec{AB}$).\n",
    "Par exemple, voici **une configuration possible** des vecteurs vitesses $\\vec{v}_A$ et $\\vec{v}_B$ :\n",
    "\n",
    "![Illustration des vecteurs](fig-vecteurs-2.png)"
   ]
  },
  {
   "cell_type": "markdown",
   "id": "instant-population",
   "metadata": {},
   "source": [
    "## 2.2 : Calculer la distance et la force entre deux corps\n",
    "\n",
    "Un vecteur en trois dimensions, par exemple la vitesse du corps $A$, peut se représenter sous la forme de trois nombres.\n",
    "Dans ce projet, nous utiliserons les coordonnées cartésiennes $\\vec{x} = (x,y,z)$, et nous représenterons des vecteurs en python par des objets `numpy.array`.\n",
    "\n",
    "Nous aurons besoin, à plusieurs reprises, de calculer la distance vectorielle (vecteur déplacement) entre deux points, et d'en déduire sa norme et sa direction. Par exemple :"
   ]
  },
  {
   "cell_type": "code",
   "execution_count": 7,
   "id": "elder-template",
   "metadata": {},
   "outputs": [],
   "source": [
    "import numpy\n",
    "import math\n",
    "\n",
    "# Nous définissons deux vecteurs, qui répresentent des positions de deux objets :\n",
    "exempleVecA = numpy.array([0.0, 0.0, 1.0]) # en mètres\n",
    "exempleVecB = numpy.array([0.0, 2.0, 1.0]) # en mètres\n",
    "\n",
    "# Nous calculons le vecteur déplacement :\n",
    "exempleVecDiff = exempleVecB - exempleVecA # en mètres\n",
    "# Le produit scalaire de cette différence avec elle-même (la magnitude au carré) :\n",
    "exempleVecDiffMagCarre = exempleVecDiff.dot(exempleVecDiff) # en m^2\n",
    "# La magnitude :\n",
    "exempleVecDiffMag = math.sqrt(exempleVecDiffMagCarre) # en mètres\n",
    "# Le vecteur unitaire associé :\n",
    "exempleVecDiffUnitaire = exempleVecDiff / exempleVecDiffMag # sans unités"
   ]
  },
  {
   "cell_type": "markdown",
   "id": "governing-serial",
   "metadata": {},
   "source": [
    "[Q11] Muni de ces outils, écrire une fonction python qui calcule la force vectorielle entre deux corps A et B, dont les positions sont `xA` et `xB` (deux objets de type numpy.array), et dont les masses sont `mA` et `mB`. La force étant un vecteur, la fonction doit renvoyer un numpy.array. Vous pouvez utiliser la trame suivante :\n",
    "\n",
    "```python\n",
    "def forceGravitationnelle(xA, xB, mA, mB):\n",
    "    # votre code ici\n",
    "    F = [...] # vous calculez la force\n",
    "    return F\n",
    "```"
   ]
  },
  {
   "cell_type": "code",
   "execution_count": 8,
   "id": "particular-lesson",
   "metadata": {},
   "outputs": [
    {
     "name": "stdout",
     "output_type": "stream",
     "text": [
      "[-2.56893927e+13 -2.56893927e+13 -2.56893927e+13]\n",
      "Force vectorielle résultante entre les corps A et B est : F= [-2.56893927e+13 -2.56893927e+13 -2.56893927e+13]\n"
     ]
    }
   ],
   "source": [
    "# [votre code ici pour Q11]\n",
    "\n",
    "import math\n",
    "import numpy as np\n",
    "\n",
    "def forceGravitationnelle(xA, xB, mA, mB):\n",
    "    \n",
    "    distance_vecteur = xB - xA\n",
    "    \n",
    "    VecDiffMagCarre = distance_vecteur.dot(distance_vecteur)\n",
    "    distance = math.sqrt(VecDiffMagCarre)\n",
    "    \n",
    "    if distance == 0:\n",
    "        return np.zeros(3, dtype=int)\n",
    "    else:\n",
    "        G = 6.67430e-11  # Constante gravitationnelle en m^3 kg^-1 s^-2\n",
    "        force_magnitude = -(G * mA * mB) / (distance ** 2)\n",
    "    \n",
    "        force_vecteur = (force_magnitude / distance) * distance_vecteur\n",
    "    \n",
    "        return force_vecteur\n",
    "\n",
    "#pratiquer et tester la fonction\n",
    "xA = np.array([0, 0, 0]) \n",
    "xB = np.array([1, 1, 1]) \n",
    "mA = 1e12  # en kg\n",
    "mB = 2e12  # en kg\n",
    "\n",
    "print(forceGravitationnelle(xA, xB, mA, mB))\n",
    "print(\"Force vectorielle résultante entre les corps A et B est : F=\",forceGravitationnelle(xA, xB, mA, mB))\n"
   ]
  },
  {
   "cell_type": "markdown",
   "id": "radical-purchase",
   "metadata": {},
   "source": [
    "Il est une bonne pratique de tester et de vérifier le code que l'on vient d'écrire. Dans l'exemple ci-dessus, nous avons défini deux objets séparés d'une distance de deux mètres dans la direction $+y$. Soient leurs masses 1kg. On peut calculer la norme de la force (on obtient $1,6685 \\times 10^{-11} \\, \\mathrm{kg} \\, \\mathrm{m} \\, \\mathrm{s}^{-2}$).\n",
    "Et l'orientation ? $\\vec{F}_{A\\to B}$ est la force exercé par A sur B, c'est-à-dire la force subie par B ; la force gravitationnelle étant attractive, elle va diriger B vers A, donc dans la direction $-y$, c'est-à-dire $(0, -1, 0)$. Est-ce bien le cas ? Le code ci-dessous effectuera ce test (après que vous avez défini la fonction `forceGravitationelle` dans la Q11 ; si vous avez choisi un autre nom, il faudrait faire une modification correspondante) :"
   ]
  },
  {
   "cell_type": "markdown",
   "id": "0dac2d9b-9d79-4337-a4ef-db407e6c179e",
   "metadata": {},
   "source": [
    "```python\n",
    "exempleForce = forceGravitationnelle(exempleVecA, exempleVecB, 1.0, 1.0)\n",
    "exempleForceMagnitude = math.sqrt(exempleForce.dot(exempleForce))\n",
    "print(\"La force est\", exempleForce, \"kg m s^{-2}.\")\n",
    "print(\"Sa magnitude vaut \", exempleForceMagnitude, \"kg m s^{-2}\")\n",
    "print(\"Son vecteur unitaire est\", exempleForce/exempleForceMagnitude)\n",
    "```"
   ]
  },
  {
   "cell_type": "markdown",
   "id": "south-lingerie",
   "metadata": {},
   "source": [
    "[Q12] Ajouter ces lignes de code et effectuer ce test. Si tout est correct, le résultat de ce test simple devrait se ressembler à la suivante :\n",
    "\n",
    "```\n",
    "La force est [-0.0000e+00 -1.6685e-11 -0.0000e+00] kg m s^{-2}.\n",
    "Sa magnitude vaut  1.6685e-11 kg m s^{-2}\n",
    "Son vecteur unitaire est [-0. -1. -0.]\n",
    "```"
   ]
  },
  {
   "cell_type": "code",
   "execution_count": 9,
   "id": "focused-priority",
   "metadata": {},
   "outputs": [
    {
     "name": "stdout",
     "output_type": "stream",
     "text": [
      "La force est [-0.000000e+00 -1.668575e-11 -0.000000e+00] kg m s^{-2}.\n",
      "Sa magnitude vaut  1.668575e-11 kg m s^{-2}\n",
      "Son vecteur unitaire est [-0. -1. -0.]\n"
     ]
    }
   ],
   "source": [
    "# [votre code ici pour Q12]\n",
    "import math\n",
    "import numpy as np\n",
    "\n",
    "def forceGravitationnelle(xA, xB, mA, mB):\n",
    "    \n",
    "    distance_vecteur = xB - xA\n",
    "    \n",
    "    VecDiffMagCarre = distance_vecteur.dot(distance_vecteur)\n",
    "    distance = math.sqrt(VecDiffMagCarre)\n",
    "    \n",
    "    if distance == 0:\n",
    "        return np.zeros(3, dtype=int)\n",
    "    else:\n",
    "        G = 6.67430e-11  # Constante gravitationnelle en m^3 kg^-1 s^-2\n",
    "        force_magnitude = -(G * mA * mB) / (distance ** 2)\n",
    "    \n",
    "        force_vecteur = (force_magnitude / distance) * distance_vecteur\n",
    "    \n",
    "        return force_vecteur\n",
    "    \n",
    "exempleForce = forceGravitationnelle(exempleVecA, exempleVecB, 1.0, 1.0)\n",
    "exempleForceMagnitude = math.sqrt(exempleForce.dot(exempleForce))\n",
    "print(\"La force est\", exempleForce, \"kg m s^{-2}.\")\n",
    "print(\"Sa magnitude vaut \", exempleForceMagnitude, \"kg m s^{-2}\")\n",
    "print(\"Son vecteur unitaire est\", exempleForce/exempleForceMagnitude)    "
   ]
  },
  {
   "cell_type": "markdown",
   "id": "protected-approach",
   "metadata": {},
   "source": [
    "## 2.3 : Premier jet : un champ gravitationnel statique\n",
    "\n",
    "Ayant écrit et testé ces outils, nous pouvons ensuite simuler un système plus intéressant !\n",
    "On considère un système constitué du Soleil (corps A) et de la Terre (corps B).\n",
    "Nous souhaitons modéliser le trajet de la Terre autour du Soleil.\n",
    "Dans ce premier exercice, le Soleil est supposé fixe et immobile à l'origine.\n",
    "\n",
    "La masse du Soleil vaut $1,9885 \\times 10^{30} \\, \\mathrm{kg}$.\n",
    "La masse de la Terre vaut $5,972 \\times 10^{24} \\, \\mathrm{kg}$."
   ]
  },
  {
   "cell_type": "markdown",
   "id": "corresponding-paintball",
   "metadata": {},
   "source": [
    "### Exercice : calculer la force subie par la Terre\n",
    "\n",
    "À t=0 (c'est-à-dire dans les conditions initialles), la Terre se trouve à une distance \n",
    "$d_0 = 149 \\, 596 \\, 006 \\, \\mathrm{km}$\n",
    "du Soleil.\n",
    "On place la Terre à $x_B = (d_0, 0, 0)$. Le soleil est forcément à $x_A = (0,0,0)$.\n",
    "\n",
    "[Q13] Utiliser votre fonction pour évaluer la force gravitationnelle (vectorielle) subie par la Terre à cet instant, en unités SI."
   ]
  },
  {
   "cell_type": "code",
   "execution_count": 10,
   "id": "sixth-inflation",
   "metadata": {},
   "outputs": [
    {
     "name": "stdout",
     "output_type": "stream",
     "text": [
      "la force gravitationnelle est: [-3.54169469e+22 -0.00000000e+00 -0.00000000e+00] Kg m s^{-2}.\n"
     ]
    }
   ],
   "source": [
    "# [votre code ici pour Q13]\n",
    "mA = 1.9885e30\n",
    "mB = 5.972e24\n",
    "𝑑0 = 149596006e3\n",
    "xA = np.array([0,0,0])\n",
    "xB = np.array([d0,0,0])\n",
    "print(\"la force gravitationnelle est:\",forceGravitationnelle(xA, xB, mA, mB),\"Kg m s^{-2}.\")\n"
   ]
  },
  {
   "cell_type": "markdown",
   "id": "headed-calcium",
   "metadata": {},
   "source": [
    "[Q14] Ensuite, faites le calcul vous-même (sur papier, ou avec une calculatrice) et vérifiez que vos deux valeurs sont cohérentes."
   ]
  },
  {
   "cell_type": "markdown",
   "id": "systematic-collection",
   "metadata": {},
   "source": [
    "_(vos observations ici pour Q14)_ \n",
    "\n",
    "en fesant les calculs nous méme on trouve que la force gravitationnelle est [3.541694693*10^22,0,0] Kg m s^{-2}.\n",
    "Alors: Les deux valeurs sont cohérantes."
   ]
  },
  {
   "cell_type": "markdown",
   "id": "palestinian-onion",
   "metadata": {},
   "source": [
    "## 2.4 : L'évolution du système\n",
    "\n",
    "Mais la Terre ne va pas rester à cette position initiale : elle se déplace ! Nous calculerons son trajet en suivant une approche numérique itérative, en faisant une série de calculs par pas de temps $dt$."
   ]
  },
  {
   "cell_type": "markdown",
   "id": "genetic-election",
   "metadata": {},
   "source": [
    "Supposons que le pas $dt$ soit suffisamment court pour que la réponse du système soit linéaire, c'est-à-dire\n",
    "\n",
    "$$\\vec{x}_B(t + dt) = \\vec{x}_B(t) + d\\vec{x} = \\vec{x}_B(t) + \\vec{v}_B(t) dt$$\n",
    "$$\\vec{v}_B(t + dt) = \\vec{v}_B(t) + d\\vec{v} = \\vec{v}_B(t) + \\vec{a}_B(t) dt$$\n",
    "\n",
    "où $\\vec{x}_B(t)$ est la position de la Terre au temps $t$, $\\vec{v}_B(t)$ est sa vitesse, et $\\vec{a}_B(t)$ est son accéleration.\n",
    "On procède comme suite :\n",
    "\n",
    "- On définie les conditions initiales : les valeurs des paramètres $\\vec{x}_B(t)$ et $\\vec{v}_B(t)$ à $t=0$.\n",
    "- On calcule $\\vec{F}_{A\\to B}(t)$ et ainsi $\\vec{a}_B(t)$ à $t=0$.\n",
    "- Sachant la vitesse et l'accéleration à $t=0$, on calcule les paramètres à $dt$ : $\\vec{x}_B(dt)$ et $\\vec{v}_B(dt)$. On en déduit la force et ainsi l'accéleration à $t=dt$.\n",
    "- Avec ces nouvelles valeurs à $t=dt$, on calcule les paramètres à $t=2dt$.\n",
    "- Avec ces nouvelles valeurs à $t=2dt$, on calcule les paramètres à $t=3dt$.\n",
    "- (etc)\n",
    " \n",
    "Voici une illustration de l'approche (avec un pas plutôt grossier). À chaque point $i=0,1,...,6$, on détermine la position ($\\vec{x}_i$), la vitesse ($\\vec{v}_i$), et la force subie ($\\vec{F}_i$). Notez que, par exemple, on calcule $\\vec{x}_1 = \\vec{x}_0 + \\vec{v}_0 dt$ et non avec une formule trigonométrique.\n",
    "\n",
    "![Illustration des vecteurs](fig-vecteurs-4.png)\n",
    " \n",
    "Ceci est une approche itérative. Parce que nous allons refaire les calculs de nombreuses fois, nous aimerions écrire un bloc de code réutilisable dans des boucles.\n",
    "\n",
    "### Exercice : avancer un pas\n",
    "\n",
    "[Q15] Écrire une fonction qui prend en entrée les valeurs actuelles de `xA`, `xB`, et `vB` et un pas `dt`, qui fait avancer la position et la vitesse de la Terre d'un pas, et qui renvoie les nouvelles valeurs.\n",
    "(Dans ce modèle simplifié, le Soleil reste fixe à l'origine. Parce qu'il ne bouge pas, nous ne précisons pas sa vitesse nulle `vA`.)\n",
    "Vous pouvez utiliser la trame suivante :\n",
    "\n",
    "```\n",
    "def champStatiqueAvanceUnPas(xA, xB, vB, dt):\n",
    "    # votre code ici\n",
    "    nouvelle_xB = [...]\n",
    "    nouvelle_vB = [...]\n",
    "    return nouvelle_xB, nouvelle_vB\n",
    "```\n",
    "\n",
    "Point technique : Python traite des nombres simples (comme `dt`) un peu différemment des objets composés (comme `xB`). Selon la structure de votre code, vous pourriez avoir besoin de créer une nouvelle copie d'un vecteur avant de le manipuler, par exemple :\n",
    "\n",
    "```\n",
    "    dxB = dt * numpy.array(vB)\n",
    "````"
   ]
  },
  {
   "cell_type": "code",
   "execution_count": 11,
   "id": "stuffed-preliminary",
   "metadata": {},
   "outputs": [],
   "source": [
    "# [votre code ici pour Q15]\n",
    "import numpy as np\n",
    "\n",
    "def champStatiqueAvanceUnPas(xA,xB,vB,dt):\n",
    "    mA=1.9885e30\n",
    "    mB=5.972e24\n",
    "    F=forceGravitationnelle(xA, xB, mA, mB)\n",
    "    dxB = dt * np.array(vB)\n",
    "    xB_nouveau = xB + dxB\n",
    "    aB=F/mB\n",
    "    dvB = dt * np.array(aB)\n",
    "    vB_nouveau = vB + dvB\n",
    "    \n",
    "    return xB_nouveau, vB_nouveau\n"
   ]
  },
  {
   "cell_type": "markdown",
   "id": "interracial-smell",
   "metadata": {},
   "source": [
    "[Q16] Ensuite, tester la fonction. Par exemple, avec une vitesse initiale de **29,78 km/s** vers $+y$ et un pas de 1s, on attend que la Terre se déplace d'environ 30km vers $+y$ lors du pas, et que sa vitesse évolue vers le Soleil (vers $-x$).\n",
    "Ajouter un test et vérifier qu'il donne un résultat raisonnable."
   ]
  },
  {
   "cell_type": "code",
   "execution_count": 12,
   "id": "foreign-machinery",
   "metadata": {},
   "outputs": [
    {
     "name": "stdout",
     "output_type": "stream",
     "text": [
      "Nouvelle position de la Terre : [1.49596006e+11 5.97800000e+04 0.00000000e+00]\n",
      "Nouvelle vitesse de la Terre : [-5.93050016e-03  2.97800000e+04  0.00000000e+00]\n"
     ]
    }
   ],
   "source": [
    "# [votre code ici pour Q16]\n",
    "vB=np.array([0,29.78e3,0])\n",
    "xB=np.array([d0,30e3,0])\n",
    "vA=np.array([0,0,0])\n",
    "dt=1\n",
    "xB_nouveau, vB_nouveau=champStatiqueAvanceUnPas(xA,xB,vB,dt)\n",
    "print(\"Nouvelle position de la Terre :\", xB_nouveau)\n",
    "print(\"Nouvelle vitesse de la Terre :\", vB_nouveau)"
   ]
  },
  {
   "cell_type": "markdown",
   "id": "liquid-above",
   "metadata": {},
   "source": [
    "## 2.5 : Point sur le choix du pas\n",
    "\n",
    "Le pas ($dt$) n'est pas un paramètre physique : il ne correspond pas à une propriété observable du système solaire. En principe, on devrait trouver des résultats semblables pour tout choix _valable_ de dt (c'est-à-dire, pour tout choix qui valide l'hypothèse que l'évolution du système est linéaire pendant l'intervalle $dt$). Cependant, il est un paramètre de notre modèle, et un mauvais choix du pas peut fausser le résultat. En général, on veut que le pas soit le plus court possible.\n",
    "Mais la précision a son prix : plus $dt$ est petit, plus le temps de calcul augmente. Un pas très, très petit peut aussi engendrer des problèmes de précision numérique. Dans ce projet, vous devrez choisir un pas adapté au problème, et étudier l'effet de la variation de sa valeur."
   ]
  },
  {
   "cell_type": "markdown",
   "id": "falling-israeli",
   "metadata": {},
   "source": [
    "#### Exercice : L'orbite de la terre\n",
    "\n",
    "On va maintentant suivre la Terre autour du Soleil. On prend des valeurs initiales suivantes : \n",
    "\n",
    "$$\\vec{x}(t=0) = (d_0, 0, 0)$$\n",
    "$$\\vec{v}(t=0) = (0, v_0, 0)$$\n",
    "où\n",
    "$$d_0 = 149 \\, 596 \\, 006 \\, \\mathrm{km}$$\n",
    "$$v_0 = 29,78 \\, \\mathrm{km} \\, \\mathrm{s}^{-1}$$\n",
    "\n",
    "[Q17] Choisir un pas $dt$, et déterminer le nombre $N$ de pas correspondent à un an. Ensuite, utilisez votre fonction (définie dans la question 15) $N$ fois et déterminer la position de la Terre après un an."
   ]
  },
  {
   "cell_type": "code",
   "execution_count": 13,
   "id": "bbb9b4fa-c360-4119-97d1-17f07e82931f",
   "metadata": {},
   "outputs": [
    {
     "name": "stdout",
     "output_type": "stream",
     "text": [
      "le nombre 𝑁 de pas correspondent à un an est : 315360\n",
      "Nouvelle position de la Terre après un an : [1.49596006e+11 9.39142080e+11 0.00000000e+00]\n"
     ]
    }
   ],
   "source": [
    "# [votre code ici pour Q17, à réutiliser ensuite en étudiant les Q19-21]\n",
    "import numpy as np\n",
    "import math as m\n",
    "\n",
    "v0= 29.78e3   # m/s\n",
    "dt = 100 # s\n",
    "N = (365*24*3600) // dt\n",
    "d0 = 149596006e3  # m\n",
    "V0 = np.array([0, v0, 0])  # m/s\n",
    "xB = np.array([d0, 0, 0])  # m\n",
    "\n",
    "for i in range(0,N):\n",
    "    xB, v0 = champStatiqueAvanceUnPas(xA,xB, V0, dt)\n",
    "    \n",
    "print(\"le nombre 𝑁 de pas correspondent à un an est :\",N)\n",
    "print(\"Nouvelle position de la Terre après un an :\", xB)"
   ]
  },
  {
   "cell_type": "markdown",
   "id": "broadband-athens",
   "metadata": {},
   "source": [
    "_(vos remarques sur le choix de dt ici pour Q17)_\n",
    "Nous avons choisit un dt cent fois plus grand que le dt proposé plus haut. Cepeandant, il est reste assez grand pour avoir un N d'ordre 10^6. De plus, plus dt est petit, plus N est grand. On doit tout de même garder un dt assez grand pour que notre programme puisse fonctionner."
   ]
  },
  {
   "cell_type": "markdown",
   "id": "noted-actor",
   "metadata": {},
   "source": [
    "[Q18] Visualiser l'évolution temporelle de la position de la Terre.\n",
    " * Remarques : Il est convenable de pouvour visualiser ce que fait le calcul. À cette fin, vous pouvez utiliser la fonction `scatter()` de `matplotlib.pyplot`. Astuce : au lieu de dessiner un point par pas, vous pourriez dessiner un point par 1000 pas (ou 100, ou $10^4$, ou etc, en fonction de sa durée) ; [l'opération modulo](https://fr.wikipedia.org/wiki/Modulo_(op%C3%A9ration)) (`%`, le reste de la division d'entiers) pourrait vous aider. Vous pouvez ainsi utiliser un pas court sans stocker un nombre excessif de points."
   ]
  },
  {
   "cell_type": "code",
   "execution_count": 14,
   "id": "muslim-factor",
   "metadata": {},
   "outputs": [
    {
     "data": {
      "text/plain": [
       "(-164457082896.95908,\n",
       " 164583835205.32657,\n",
       " -164522555686.33582,\n",
       " 164500202453.1748)"
      ]
     },
     "execution_count": 14,
     "metadata": {},
     "output_type": "execute_result"
    },
    {
     "data": {
      "image/png": "[encoded data removed]",
      "text/plain": [
       "<Figure size 432x288 with 1 Axes>"
      ]
     },
     "metadata": {
      "needs_background": "light"
     },
     "output_type": "display_data"
    }
   ],
   "source": [
    "# [votre code ici pour Q18]\n",
    "v0= 29.78e3  \n",
    "dt = 100 \n",
    "d0 = 149596006e3  \n",
    "xB = np.array([d0,0,0])\n",
    "V0 = np.array([0,v0,0])\n",
    "N = (365*24*3600)//dt\n",
    "\n",
    "for i in range(0,N):\n",
    "    xB,V0= champStatiqueAvanceUnPas(xA, xB, V0, dt)\n",
    "    if i%1000==0:\n",
    "        plt.scatter(xB[0],xB[1],color=\"blue\",s=1)\n",
    "\n",
    "plt.xlabel(\"x(Abscisses)\")\n",
    "plt.ylabel(\"y(Ordonnées)\")\n",
    "plt.title(\"L'evolution temporelle de la position de la terre\",fontsize=9)\n",
    "plt.axis(\"scaled\")"
   ]
  },
  {
   "cell_type": "markdown",
   "id": "eleven-rolling",
   "metadata": {},
   "source": [
    "Questions à considérer, muni de votre outil de simulation numérique :\n",
    "\n",
    "+ [Q19] Est-ce que la Terre est revenue à son point de départ après un an ? (À quelle précision ?)\n",
    "+ [Q20] Que se passe-t-il si le pas $dt$ varie ? (Vous pouvez tenter, par exemple, {10000s, 1000s, 100s, 10s, 1s} ou {1jour, 1heure, 1min, 1s}. Attention, le calcul pourrait devenir long dans le cas d'un pas court.)\n",
    "+ [Q21] Que se passe-t-il après plusieurs cycles, par exemple au fil de 10 ans, ou de 100 ans ?"
   ]
  },
  {
   "cell_type": "markdown",
   "id": "political-bracket",
   "metadata": {},
   "source": [
    "_(vos observations ici pour les Q19-21)_"
   ]
  },
  {
   "cell_type": "markdown",
   "id": "bottom-principle",
   "metadata": {},
   "source": [
    "---Q19:La Terre est revenue à son point de départ après un an comme on peut le voir sur le graphique car sa trajectoire autour du soleil forme un cercle .\n",
    "\n",
    "Q20:Plus dt petit, plus le resultat est précis mais la boucle est longue et donc le temps de calcul est long et plus dt grand plus le nombre de points plus petit .\n",
    "\n",
    "Q21:Après plusieurs cycles on remarque un decalage des positions de la terre (elle s'éloigne du soleil ) et cela est causée par l'approche numérique itérative."
   ]
  },
  {
   "cell_type": "markdown",
   "id": "secret-clearing",
   "metadata": {},
   "source": [
    "# 3. Un système à deux corps [s'il vous reste le temps nécessaire]\n",
    "\n",
    "Dans la réalité, le Soleil n'est pas fixe et immobile (troisième loi de Newton). Parce que la force subie par la Terre dépend de la position du Soleil, ce déplacement changera l'évolution subséquente du système. Son comportement devient plus complexe : le mouvement de la Terre dépend du mouvement du Soleil, qui dépend du mouvement de la Terre.\n",
    "\n",
    "Nous adapterons notre simulation numérique pour qu'elle tienne compte du mouvement du Soleil. Pour ce faire, nous retenons la même approche itérative ; la différence, c'est qu'il faut maintenant suivre davantage de paramètres.\n",
    "\n",
    "[Q22] D'abord, écrire une nouvelle fonction (prennant en entrée les valeurs actuelles de `xA`, `xB`, `vA`, `vB` et un pas `dt`) qui fait avancer les positions et les vitesse d'un pas, et renvoie les nouvelles valeurs.\n",
    "Vous pouvez utiliser la trame suivante :\n",
    "\n",
    "```python\n",
    "def systemeDeuxCorpsAvanceUnPas(xA, xB, vA, vB, dt):\n",
    "    # votre code ici\n",
    "    nouvelle_xA = [...]\n",
    "    nouvelle_vA = [...]\n",
    "    nouvelle_xB = [...]\n",
    "    nouvelle_vB = [...]\n",
    "    return nouvelle_xA, nouvelle_vA, nouvelle_xB, nouvelle_vB\n",
    "```"
   ]
  },
  {
   "cell_type": "code",
   "execution_count": 15,
   "id": "minimal-image",
   "metadata": {},
   "outputs": [
    {
     "data": {
      "text/plain": [
       "(array([0, 1, 0]),\n",
       " array([-3.98589196e+14,  1.00000000e+00,  0.00000000e+00]),\n",
       " array([1, 5, 4]),\n",
       " array([-1.32484855e+20,  5.00000000e+00,  4.00000000e+00]))"
      ]
     },
     "execution_count": 15,
     "metadata": {},
     "output_type": "execute_result"
    }
   ],
   "source": [
    "# [votre code ici pour Q22]\n",
    "def systemeDeuxCorpsAvanceUnPas(xA, xB, vA, vB, dt):\n",
    "    mA=1.985e30 #masse du soleil\n",
    "    mB=5.972e24 #masse de la terre\n",
    "    \n",
    "    F=forceGravitationnelle(xA,xB,mA,mB)\n",
    "    \n",
    "    dxA=dt*np.array(vA)\n",
    "    xA_nouveau=xA+dxA\n",
    "    aA=F/mA\n",
    "    dvA=dt*np.array(aA)\n",
    "    vA_nouveau=vA+dvA\n",
    "    \n",
    "    dxB=dt*np.array(vB)\n",
    "    xB_nouveau=xB+dxB\n",
    "    aB=F/mB\n",
    "    dvB=dt*np.array(aB)\n",
    "    vB_nouveau=vB+dvB\n",
    "    \n",
    "    return xA_nouveau,vA_nouveau,xB_nouveau,vB_nouveau\n",
    "\n",
    "systemeDeuxCorpsAvanceUnPas(np.array([0,0,0]),np.array([1,0,0]),np.array([0,1,0]),np.array([0,5,4]),1)\n"
   ]
  },
  {
   "cell_type": "markdown",
   "id": "later-reporter",
   "metadata": {},
   "source": [
    "[Q23] Choisir les valeurs initiales des paramètres pour que le centre de masse (barycentre) du système soit (i) à l'origine, et (ii) au repos, c'est-à-dire de vitesse nulle. (Ces choix n'ont pas de signification physique, dans un sens fondamental, mais ils rendront plus simple le modèle du système.) Comme auparavant, on veut que la distance Terre-Soleil à $t=0$ soit $d_0$ et la vitesse relative à $t=0$ soit $v_0$."
   ]
  },
  {
   "cell_type": "markdown",
   "id": "incorporated-dictionary",
   "metadata": {},
   "source": [
    "_(vos remarques ici sur le choix des valeurs initiales pour Q23)_"
   ]
  },
  {
   "cell_type": "code",
   "execution_count": 16,
   "id": "psychological-eugene",
   "metadata": {},
   "outputs": [
    {
     "data": {
      "text/plain": [
       "(array([-7.53630005e-20,  0.00000000e+00,  0.00000000e+00]),\n",
       " array([-1.78108861e-08,  0.00000000e+00,  0.00000000e+00]),\n",
       " array([1.49596006e+11, 2.97800000e+04, 0.00000000e+00]),\n",
       " array([-5.92006176e-03,  2.97800000e+04,  0.00000000e+00]))"
      ]
     },
     "execution_count": 16,
     "metadata": {},
     "output_type": "execute_result"
    }
   ],
   "source": [
    "# [votre code ici pour Q23, à réutiliser ensuite pour Q25-26]\n",
    "d0 = 149596006e3\n",
    "mA=1.985e30 \n",
    "mB=5.972e24 \n",
    "G1=d0/(mA+mB)#Barycentre\n",
    "\n",
    "vB=np.array([0,29.78e3,0])\n",
    "xB=np.array([d0-G1,0,0])\n",
    "xA=np.array([-G1,0,0])#a l'origine\n",
    "dt=1\n",
    "vA = np.array([0,0,0])#au repos\n",
    "systemeDeuxCorpsAvanceUnPas(xA,xB,vA,vB,dt)\n"
   ]
  },
  {
   "cell_type": "markdown",
   "id": "complimentary-silicon",
   "metadata": {},
   "source": [
    "[Q24] Ensuite, utiliser cette fonction pour calculer l'évolution du système. \n",
    "On a:\n",
    "xA:[-7.53630005e-20,  0.00000000e+00,  0.00000000e+00]\n",
    "vA:[-1.78108861e-08,  0.00000000e+00,  0.00000000e+00]\n",
    "xB:[1.49596006e+11, 2.97800000e+04, 0.00000000e+00]\n",
    "vB:[-5.92006176e-03,  2.97800000e+04,  0.00000000e+00]\n",
    "\n",
    "Questions à considérer :\n",
    "\n",
    "+ [Q25] Est-ce que le système se comporte différemment du modèle simplifié ci-dessus (d'un Soleil fixe) ? Pourquoi ?\n",
    "+ [Q26] Est-ce que la position et la vitesse du centre de masse sont censées varier au fil du temps ? Est-ce le cas en pratique, selon votre modèle ?"
   ]
  },
  {
   "cell_type": "markdown",
   "id": "reflected-absorption",
   "metadata": {},
   "source": [
    "_(vos remarques ici pour Q25)_ \n",
    "\n",
    "Dans le premier modèle (simplifié) nous avons les valeurs suivantes :\n",
    "\n",
    "xB:[1.49596006e+11, 2.97800000e+04, 0.00000000e+00]\n",
    "\n",
    "vB:[-5.93050016e-03,  2.97800000e+04,  0.00000000e+00]\n",
    "\n",
    "Dans le second modèle nous avons les valeurs suivantes : \n",
    "\n",
    "xB:[1.49596006e+11, 2.97800000e+04, 0.00000000e+00]\n",
    "\n",
    "vB:[-5.92006176e-03,  2.97800000e+04,  0.00000000e+00]\n",
    "\n",
    "Il n'y a pas de différence entre les x. Cependant la vitesse a légérement changé. On en conclue que la Terre a quasiment le même comportement quelque soit le modèle.\n",
    "En ce qui concerne le Soleil, la vitesse et les coordonnées de ce dernier ont légérement changé.\n",
    "\n",
    "On en conclut que les deux modèles donnent des résultats quasiment identiques. Cela s'explique par le fait que le barycentre et le centre de masse du Soleil sont très proches l'un de l'autre et que par conséquent, affirmer que les deux sont confondus n'apporterait pas de réelle différence dans les résultats."
   ]
  },
  {
   "cell_type": "markdown",
   "id": "minute-bouquet",
   "metadata": {},
   "source": [
    "_(vos remarques ici pour Q26)_\n",
    "La position et la vitesse du centre de masse sont censées varier au fil du temps. Or c'est notre cas. On remarque bien une variation de vitesse et de la position."
   ]
  },
  {
   "cell_type": "code",
   "execution_count": 17,
   "id": "novel-maldives",
   "metadata": {},
   "outputs": [
    {
     "name": "stdout",
     "output_type": "stream",
     "text": [
      "(array([-7.53630005e-20,  0.00000000e+00,  0.00000000e+00]), array([-1.78108861e-08,  0.00000000e+00,  0.00000000e+00]), array([1.49596006e+11, 2.97800000e+04, 0.00000000e+00]), array([-5.92006176e-03,  2.97800000e+04,  0.00000000e+00]))\n",
      "(array([1.49596006e+11, 2.97800000e+04, 0.00000000e+00]), array([-5.93050016e-03,  2.97800000e+04,  0.00000000e+00]))\n",
      "(array([7.53630005e-20, 0.00000000e+00, 0.00000000e+00]), array([-1.78108861e-08,  0.00000000e+00,  0.00000000e+00]), array([1.49596006e+11, 2.97800000e+04, 0.00000000e+00]), array([-5.92006176e-03,  2.97800000e+04,  0.00000000e+00]))\n"
     ]
    }
   ],
   "source": [
    "# [votre code ici pour Q25-26, le cas échéant]\n",
    "#Q25\n",
    "print(systemeDeuxCorpsAvanceUnPas(xA,xB,vA,vB,dt))\n",
    "\n",
    "print(champStatiqueAvanceUnPas(xA,xB,vB,dt))\n",
    "\n",
    "#Q26\n",
    "xG=np.array([G1,0,0])\n",
    "vG=np.array([0,0,0])            \n",
    "print(systemeDeuxCorpsAvanceUnPas(xG,xB,vG,vB,dt))"
   ]
  },
  {
   "cell_type": "markdown",
   "id": "legal-color",
   "metadata": {},
   "source": [
    "---"
   ]
  },
  {
   "cell_type": "markdown",
   "id": "precise-pipeline",
   "metadata": {
    "tags": []
   },
   "source": [
    "# Pour aller plus loin\n",
    "\n",
    "Ci-dessous, quelques idées qui pourrait vous inspirer. La liste n'est pas exhaustive !\n",
    "\n",
    "## Idées pour la partie 1 :\n",
    "\n",
    "### Appliquer la troisième loi de Kepler à d'autres planètes ; incertitudes\n",
    "\n",
    "Les données du fichier ```nasa-exoplanetes.csv``` concernent les planètes suivantes :\n",
    "11 Com b,\n",
    "11 UMi b,\n",
    "14 And b,\n",
    "14 Her b,\n",
    "16 Cyg B b,\n",
    "18 Del b,\n",
    "24 Boo b,\n",
    "24 Sex b,\n",
    "24 Sex c,\n",
    "2MASS J19383260+4603591 b,\n",
    "30 Ari B b,\n",
    "4 UMa b,\n",
    "42 Dra b,\n",
    "47 UMa b,\n",
    "47 UMa c,\n",
    "51 Peg b,\n",
    "55 Cnc b,\n",
    "55 Cnc c.\n",
    "\n",
    "Vous pouvez tester sa validité avec d'autres planètes de la base de données de la NASA.\n",
    "Attention : elle comprend énormément d'informations sur des milliers de planètes\n",
    "(et parfois plusieurs mesures par planète).\n",
    "Il n'est pas conseillé de traiter un grand nombre de planètes (pour qu'il reste un projet de physique et non d'informatique).\n",
    "Par contre, il pourrait être intéressant de tester la loi de Kepler dans des conditions\n",
    "extrèmes (p.ex. des planètes très massives, ou très loin de leurs astres, ou dans des systèmes à plusieurs astres).\n",
    "\n",
    "La plupart des mesures pertinantes ont des incertitudes associées.\n",
    "Pouvez-vous les inclure dans votre graphique, et/ou dans votre ajustement ?\n",
    "\n",
    "## Idées pour les parties 2+3 :\n",
    "\n",
    "### La méthode de Varlet\n",
    "\n",
    "L'algorithme itératif proposé dans la partie 2.4 correspond, en effet, à la méthode d'Euler. Il souffre des imprécisions si le pas dt n'est pas très court. Un autre algorithme, plus précis, est [la méthode de Verlet](https://fr.wikipedia.org/wiki/Int%C3%A9gration_de_Verlet). Au deuxième ordre, on peut l'exprimer sous la forme suivante :\n",
    "\n",
    "$$\\vec{v}_B(t + dt) = \\vec{v}_B(t) + \\vec{a}_B(t) dt$$\n",
    "$$\\vec{x}_B(t + dt) = \\vec{x}_B(t) + \\left[ \\frac{\\vec{v}_B(t) + \\vec{v}_B(t+dt)}{2} \\right] dt$$\n",
    "\n",
    "Vous pouvez mettre en comparaison la précision des deux méthodes (d'Euler et de Verlet) avec des pas grossiers, raisonnables, et fins. Les résultats, sont-ils cohérents ? Sous quelles conditions les méthodes sont-elles fiables ?\n",
    "\n",
    "### Un modèle plus réaliste du système Terre-Soleil ; vérifications numériques de la troisième loi de Kepler (via la simulation des parties 2-3)\n",
    "\n",
    "Les valeurs initiales du rayon et de la vitesse de la Terre (proposées dans les sections 2.3 et 2.4) ont été calculées tel qu'on obtienne une orbite quasi-circulaire ; elles correspondent bien aux valeurs expérimentales du demi-grand axe $a$ et de la vitesse _moyenne_ de [l'orbite](https://fr.wikipedia.org/wiki/Orbite_de_la_Terre). Cependant, dans la réalité l'orbite n'est pas strictement circulaire ; vous pouvez simuler l'orbite avec de valeurs plus précises de l'orbite de la Terre, ou d'une autre planète ayant une excentricité plus importante. Que vaut la période selon votre simulation ? Est-ce que cette valeur valide la troisième loi de Kepler ?\n",
    "\n",
    "### Un système à n corps\n",
    "\n",
    "Dans la partie 3, nous avons étudié un système à deux corps (le Soleil et la Terre). Pouvez-vous généraliser l'algorithme à plusieurs corps ? (Par exemple : le Soleil plus l'ensemble des planètes du [système solaire](https://fr.wikipedia.org/wiki/Syst%C3%A8me_solaire)). On garde l'approche itérative de base, mais à chaque itération il faudra calculer toutes les forces par paire (par exemple, la force Soleil-Terre, la force Soleil-Mars, la force Terre-Mars, ...) puis pour chaque corps calculer la somme vectorielle des forces (la résultante), puis en déduire l'accéleration, puis mettre à jour la position et la vitesse. L'orbite de la Terre, est-elle sensible à la présence des autres planètes ?\n",
    "\n",
    "### D'autres systèmes\n",
    "\n",
    "À l'aide de [la base de données NASA](https://exoplanetarchive.ipac.caltech.edu/cgi-bin/TblView/nph-tblView?app=ExoTbls&config=PS), vous pouvez simuler l'évolution d'un système astre-exoplanète. Se comporte-il d'une manière similaire à notre système solaire ? Y-a-t'il des différences ?"
   ]
  },
  {
   "cell_type": "markdown",
   "id": "humanitarian-reminder",
   "metadata": {},
   "source": [
    "----\n",
    "(Image du planétaire : Birmingham Museums Trust, via [Wikimedia Commons](https://en.wikipedia.org/wiki/File:Thinktank_Birmingham_-_object_1956S00682.00001(1).jpg))"
   ]
  },
  {
   "cell_type": "code",
   "execution_count": 18,
   "id": "27424b47-024d-403d-b69b-6599b59ec69f",
   "metadata": {},
   "outputs": [
    {
     "name": "stdout",
     "output_type": "stream",
     "text": [
      "[[1.77340002e+03 2.93000000e+00 1.48108780e+03 9.00000000e-01]\n",
      " [9.82850000e+02 2.47600000e+00 2.92624614e+03 2.10000000e+00]\n",
      " [6.55599980e+02 1.34000000e+00 9.05815500e+02 3.10000000e-01]\n",
      " [4.16000000e+02 9.20000000e-01 6.03877000e+02 4.80000000e-01]\n",
      " [3.79630000e+02 1.05000000e+00 1.76681697e+04 1.08300000e+01]\n",
      " [3.26030000e+02 1.29000000e+00 6.16560000e+03 2.70000000e+00]\n",
      " [9.34000000e+01 4.90000000e-01 4.16357300e+02 1.44000000e+00]\n",
      " [1.71330000e+01 9.20000000e-02 6.49000000e+00 4.30000000e-01]\n",
      " [5.60000000e+00 6.00000000e-02 1.27132000e+01 5.00000000e-01]\n",
      " [4.23078500e+00 5.27000000e-02 1.50009000e+02 1.03000000e+00]\n",
      " [4.12448100e+00 4.94000000e-02 1.29128900e+03 9.50000000e-01]\n",
      " [3.70000000e+00 4.50000000e-02 1.35600000e+01 9.00000000e-01]\n",
      " [2.69154800e+00 4.38000000e-02 5.49823000e+02 1.54000000e+00]\n",
      " [1.93791600e+00 2.18300000e-02 5.84804000e+00 3.70000000e-01]\n",
      " [1.90009000e+00 2.88000000e-02 1.04883900e+03 8.80000000e-01]\n",
      " [1.74299350e+00 2.85400000e-02 1.15054460e+03 1.02000000e+00]\n",
      " [1.50895570e+00 2.61000000e-02 3.59147900e+02 1.03000000e+00]\n",
      " [7.36540000e-01 1.58300000e-02 8.63000000e+00 9.60000000e-01]]\n",
      "[7.198333313188544e-06, 3.299869246316247e-05, 1.7353945356609137e-06, 2.1598224852071006e-06, 8.699119643589322e-05, 5.452777379342096e-05, 1.9420346739175285e-05, 1.1406833642860472e-06, 3.443877551020408e-06, 8.42223118781579e-06, 6.732336847448597e-06, 5.990686632578523e-06, 1.7862358186097464e-05, 1.0249272368254879e-06, 5.8225307499504195e-06, 7.804957508414914e-06, 8.04277217716235e-06, 7.01974445830779e-06]\n",
      "la moyenne de l'ensemble de nos valeurs de f est de 1.546325920364535e-05.\n",
      "l'ecart-type de l'ensemble de nos valeurs de f est de 2.1674978013183565e-05.\n",
      "[ 7.22752354e-06 -1.77124708e-01]\n"
     ]
    },
    {
     "data": {
      "image/png": "[encoded data removed]",
      "text/plain": [
       "<Figure size 432x288 with 1 Axes>"
      ]
     },
     "metadata": {
      "needs_background": "light"
     },
     "output_type": "display_data"
    }
   ],
   "source": [
    "#idées pour la partie 1 \n",
    "\n",
    "fich=np.loadtxt(\"tableau.csv\",delimiter=\";\")\n",
    "print(fich)\n",
    "# les planets choisis : 55 Cnc d ,55 Cnc e,70 Vir b,COCONUTS-2 b,GJ 1214 b,HAT-P-2 b,HAT-P-6 b,HATS-28 b,HATS-40 b,HATS-48 A b,HATS-71 b,HATS-74 A b,HD 120084 ,HD 139357 b,HD 18143 c\n",
    "#############met le nom des planets\n",
    "\n",
    "for i in range (0,18):\n",
    "    p=fich[i,0]\n",
    "    a=fich[i,1]\n",
    "    m=fich[i,2]\n",
    "    M=fich[i,3]\n",
    "f1=[]\n",
    "for i in range (0,18):\n",
    "    f1.append((fich[i,1]**3/fich[i,0]**2*fich[i,3]))\n",
    "print(f1)\n",
    "moyenne1=np.mean(f1)\n",
    "print(f\"la moyenne de l'ensemble de nos valeurs de f est de {moyenne1}.\")\n",
    "ecart_type1=np.std(f1)\n",
    "print(f\"l'ecart-type de l'ensemble de nos valeurs de f est de {ecart_type1}.\")\n",
    "\n",
    "x1=np.linspace(0,3*10**6,3*10**6)\n",
    "val_x1=np.zeros(18)\n",
    "val_y1=np.zeros(18)\n",
    "for i in range(18):\n",
    "    val_x1[i]=(fich[i,0]**2*fich[i,3])\n",
    "    val_y1[i]=(fich[i,1]**3)\n",
    "    \n",
    "ajust1=np.polyfit(val_x1,val_y1,1)\n",
    "print(ajust1)\n",
    "\n",
    "for i in range (18):\n",
    "    x2=fich[i,0]**2*fich[i,3]\n",
    "    y2=fich[i,1]**3\n",
    "    plt.plot(val_x1[i],val_y1[i],\"b:o\")\n",
    "plt.plot(x1,x1*7.22752354e-06-1.77124708e-01,\"black\",label=\"Ajustement linéaire\")\n",
    "plt.xlabel(\"x (jours^2*M_s)\")\n",
    "plt.ylabel(\"y (au**3)\")\n",
    "plt.title(\"les coordonées des planètes\")\n",
    "plt.legend()\n",
    "plt.tight_layout()"
   ]
  },
  {
   "cell_type": "code",
   "execution_count": 19,
   "id": "61975037-aeb6-4a76-adfe-369203784bd6",
   "metadata": {},
   "outputs": [
    {
     "name": "stdout",
     "output_type": "stream",
     "text": [
      "(array([1.49596006e+11, 3.27800000e+05, 0.00000000e+00]), array([-5.93050016e-02,  2.97800000e+04,  0.00000000e+00]))\n",
      "(array([1.49596006e+11, 3.27800000e+05, 0.00000000e+00]), array([-5.93050016e-02,  2.97800000e+04,  0.00000000e+00]))\n",
      "(array([1.49596006e+11, 3.00297800e+04, 0.00000000e+00]), array([-5.93050016e-06,  2.97800000e+04,  0.00000000e+00]))\n",
      "(array([1.49596006e+11, 3.00297800e+04, 0.00000000e+00]), array([-5.93050016e-06,  2.97800000e+04,  0.00000000e+00]))\n",
      "(array([1.49596006e+11, 2.98100000e+07, 0.00000000e+00]), array([-5.93050016e+00,  2.97800000e+04,  0.00000000e+00]))\n",
      "(array([1.49596003e+11, 2.98100000e+07, 0.00000000e+00]), array([-5.93050016e+00,  2.97800000e+04,  0.00000000e+00]))\n"
     ]
    }
   ],
   "source": [
    "#idées pour la partie 2+3\n",
    "#la methode de varlet\n",
    "import numpy as np\n",
    "\n",
    "def champStatiqueAvanceUnPas2(xA,xB,vB,dt):\n",
    "    mA=1.9885e30\n",
    "    mB=5.972e24\n",
    "    F=forceGravitationnelle(xA, xB, mA, mB)\n",
    "    aB=F/mB\n",
    "    dvB = dt * np.array(aB)\n",
    "    vB_nouveau = vB + dvB\n",
    "    xB_nouveau = xB +((vB+vB_nouveau)/2)*dt\n",
    "    \n",
    "    return xB_nouveau, vB_nouveau\n",
    "\n",
    "#en utulisant des pas resonnables:\n",
    "vB=np.array([0,29.78e3,0])\n",
    "xB=np.array([d0,30e3,0])\n",
    "vA=np.array([0,0,0])\n",
    "dt=10\n",
    "print(champStatiqueAvanceUnPas(xA,xB,vB,dt))\n",
    "print(champStatiqueAvanceUnPas2(xA,xB,vB,dt))\n",
    "#dans ce cas la on trouve un difference entre les deux methode par rapport au resultat de xB_nouveau ou pour la mathode de uler on trouve:[1.49596006e+11, 8.86851400e+09, 0.00000000e+00] et pour la methode de varlet on trouve :[1.49596006e+11, 3.27800000e+05, 0.00000000e+00].\n",
    "\n",
    "#en utulisant des pas fins:\n",
    "dt1=0.001\n",
    "print(champStatiqueAvanceUnPas(xA,xB,vB,dt1))\n",
    "print(champStatiqueAvanceUnPas2(xA,xB,vB,dt1))\n",
    "#dans ce cas la difference est toujours dans le xB nouveau car pour la methode de uler on trouve:[1.49596006e+11, 3.27800000e+05, 0.00000000e+00] et pour la methode de varlet on trouve : [1.49596006e+11, 3.00297800e+04, 0.00000000e+00].\n",
    "\n",
    "#en utulisant des pas grossiers:\n",
    "dt2=1000\n",
    "print(champStatiqueAvanceUnPas(xA,xB,vB,dt2))\n",
    "print(champStatiqueAvanceUnPas2(xA,xB,vB,dt2))\n",
    "#dans ce cas on trouve la meme difference ou xB avec la methode de uler est de: [1.49596006e+11, 8.86848430e+11, 0.00000000e+00] et avec la methode de varlet il est de : [1.49596003e+11, 2.98100000e+07, 0.00000000e+00].\n",
    "\n",
    "#on remarque que les resultats ne sont pas vraiment coherants dans le dexieme et dernier cas mais sont casiment les memes dans le premier cas.\n",
    "#alors on remarque que de plus le pas plus petit de plus la difference entre les resultats des deux methodes plus grand et quand le pas est resonable la difference est petite est quand les pas est tres grand les difference est grande .\n",
    "#alors la methode de varlet donne des resultats plus exact quand le pas est plus grand et la methode de uler donne des resultats plus exact quand le pas est plus petit et les deux methodes donnent casiment le méme resultat quand le pas est raisonable ."
   ]
  },
  {
   "cell_type": "code",
   "execution_count": 20,
   "id": "dc431b84-f53a-4ed1-94fd-0845d7b58f87",
   "metadata": {},
   "outputs": [
    {
     "name": "stdout",
     "output_type": "stream",
     "text": [
      "la periode de notre simulation vaut : 315360 \n"
     ]
    },
    {
     "data": {
      "text/plain": [
       "Text(0.5, 1.0, \"L'evolution temporelle de la position de la terre\")"
      ]
     },
     "execution_count": 20,
     "metadata": {},
     "output_type": "execute_result"
    },
    {
     "data": {
      "image/png": "[encoded data removed]",
      "text/plain": [
       "<Figure size 432x288 with 1 Axes>"
      ]
     },
     "metadata": {
      "needs_background": "light"
     },
     "output_type": "display_data"
    }
   ],
   "source": [
    "#un modéle plus réaliste du systéme terre-soleil\n",
    "v0= 29.78e3  #m/s\n",
    "dt = 100 \n",
    "d0 = 149596006e3  \n",
    "xB = np.array([d0,0,0])\n",
    "V0 = np.array([0,v0,0])\n",
    "N = (365*24*3600)//dt\n",
    "xA=np.array([0,0,0])\n",
    "print(f\"la periode de notre simulation vaut : {N} \")\n",
    "for i in range(0,N):\n",
    "    xB,V0= champStatiqueAvanceUnPas(xA, xB, V0, dt)\n",
    "    if i%1000==0:\n",
    "        plt.scatter(xB[0],xB[1],color=\"blue\",s=1)\n",
    "\n",
    "plt.xlabel(\"x(Abscisses)\")\n",
    "plt.ylabel(\"y(Ordonnées)\")\n",
    "plt.title(\"L'evolution temporelle de la position de la terre\",fontsize=9)\n",
    "#que vaut la periode esque cette valeur valide la 3 eme loi de kepler"
   ]
  },
  {
   "cell_type": "code",
   "execution_count": 21,
   "id": "55d7e9e7-8f8a-48f1-8e8e-13176aa7edf2",
   "metadata": {},
   "outputs": [
    {
     "data": {
      "text/plain": [
       "(array([0, 1, 0]),\n",
       " array([-3.98589196e+14,  1.00000000e+00,  0.00000000e+00]),\n",
       " array([1, 5, 4]),\n",
       " array([-1.32484855e+20,  5.00000000e+00,  4.00000000e+00]))"
      ]
     },
     "execution_count": 21,
     "metadata": {},
     "output_type": "execute_result"
    }
   ],
   "source": [
    "#un systeme a n corps\n",
    "def systemenCorpsAvanceUnPas(l,lst,t,dt):#l et lst =Tuple[n list[float]] et l contient les x des planets et lst contient leurs vitesses et t contient leurs masse. et len(l)==len(lst)==len(t).\n",
    "    lres=[]\n",
    "    for i in range (len(l)-1):\n",
    "        F=forceGravitationnelle(l[i],l[i+1],t[i],t[i+1])\n",
    "        lres.append(F)\n",
    "    for j in range (len(l)-1):\n",
    "        dxA=dt*np.array(lst[j])\n",
    "        xA_nouveau=l[j]+dxA\n",
    "        aA=lres/t[j]\n",
    "        dvA=dt*np.array(aA)\n",
    "        vA_nouveau=lst[j]+dvA\n",
    "    \n",
    "        dxB=dt*np.array(lst[j+1])\n",
    "        xB_nouveau=l[j+1]+dxB\n",
    "        aB=lres/t[j+1]\n",
    "        dvB=dt*np.array(aB)\n",
    "        vB_nouveau=lst[j+1]+dvB\n",
    "    \n",
    "    return xA_nouveau,vA_nouveau,xB_nouveau,vB_nouveau\n",
    "\n",
    "l=np.array([[0,0,0],[1,0,0]])\n",
    "lst=np.array([[0,1,0],[0,5,4]])\n",
    "t=np.array([1.985e30,5.972e24])\n",
    "dt=1\n",
    "systemenCorpsAvanceUnPas(l,lst,t,dt)        \n",
    "systemeDeuxCorpsAvanceUnPas(np.array([0,0,0]),np.array([1,0,0]),np.array([0,1,0]),np.array([0,5,4]),1)#l'orbite de la terre est sensible à la présence des autres planetes , car on a obtenue des diffeents resultats de la posiion et la vitesse de la terre avec les deux methodes .\n"
   ]
  },
  {
   "cell_type": "code",
   "execution_count": 22,
   "id": "a4c288a8-45fc-4cd7-b22c-51351ae7c82d",
   "metadata": {},
   "outputs": [],
   "source": [
    "#d'autres systemes"
   ]
  }
 ],
 "metadata": {
  "kernelspec": {
   "display_name": "root *",
   "language": "python",
   "name": "conda-root-py"
  },
  "language_info": {
   "codemirror_mode": {
    "name": "ipython",
    "version": 3
   },
   "file_extension": ".py",
   "mimetype": "text/x-python",
   "name": "python",
   "nbconvert_exporter": "python",
   "pygments_lexer": "ipython3",
   "version": "3.9.12"
  }
 },
 "nbformat": 4,
 "nbformat_minor": 5
}
